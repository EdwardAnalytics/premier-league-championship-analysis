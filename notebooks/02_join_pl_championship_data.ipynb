{
 "cells": [
  {
   "cell_type": "code",
   "execution_count": 1,
   "metadata": {},
   "outputs": [],
   "source": [
    "# Change directory to level up to import functions\n",
    "import os\n",
    "os.chdir('..')\n",
    "\n",
    "import warnings\n",
    "\n",
    "# Suppress all warnings\n",
    "warnings.filterwarnings('ignore')"
   ]
  },
  {
   "cell_type": "code",
   "execution_count": 2,
   "metadata": {},
   "outputs": [],
   "source": [
    "import pandas as pd\n",
    "from src.data_preperation.join_pl_championship_data import (\n",
    "    process_league_data,\n",
    "    join_pl_champ_data,\n",
    "    format_joined_data,\n",
    ")\n",
    "import yaml"
   ]
  },
  {
   "cell_type": "code",
   "execution_count": 3,
   "metadata": {},
   "outputs": [],
   "source": [
    "# Load the YAML file showing duplicate player names\n",
    "file_path = \"conf/duplicated_player_names.yaml\"\n",
    "with open(file_path, \"r\") as file:\n",
    "    duplicated_player_names = yaml.safe_load(file)"
   ]
  },
  {
   "cell_type": "code",
   "execution_count": 4,
   "metadata": {},
   "outputs": [],
   "source": [
    "premier_league_goals = pd.read_csv(\n",
    "    \"data/premier_league_goals/combined_seasons/premier_league_goals.csv\"\n",
    ")\n",
    "premier_league_assists = pd.read_csv(\n",
    "    \"data/premier_league_assists/combined_seasons/premier_league_assists.csv\"\n",
    ")\n",
    "championship_goals = pd.read_csv(\n",
    "    \"data/championship_goals/combined_seasons/championship_goals.csv\"\n",
    ")\n",
    "championship_assists = pd.read_csv(\n",
    "    \"data/championship_assists/combined_seasons/championship_assists.csv\"\n",
    ")"
   ]
  },
  {
   "cell_type": "code",
   "execution_count": 5,
   "metadata": {},
   "outputs": [],
   "source": [
    "# Join PL and Championship data individualy\n",
    "premier_league_merged = process_league_data(\n",
    "    goals_df=premier_league_goals,\n",
    "    assists_df=premier_league_assists,\n",
    "    duplicated_player_names=duplicated_player_names,\n",
    ")\n",
    "championship_merged = process_league_data(\n",
    "    goals_df=championship_goals,\n",
    "    assists_df=championship_assists,\n",
    "    duplicated_player_names=duplicated_player_names,\n",
    ")"
   ]
  },
  {
   "cell_type": "code",
   "execution_count": 6,
   "metadata": {},
   "outputs": [],
   "source": [
    "# Join PL and Championship data\n",
    "pl_champ_merged = join_pl_champ_data(\n",
    "    pl_df=premier_league_merged, champ_df=championship_merged\n",
    ")\n",
    "pl_champ_merged = format_joined_data(pl_champ_merged)"
   ]
  },
  {
   "cell_type": "code",
   "execution_count": 7,
   "metadata": {},
   "outputs": [],
   "source": [
    "# Save as csv\n",
    "pl_champ_merged.to_csv(\"data/premier_league_championship_joined.csv\", index=False)"
   ]
  }
 ],
 "metadata": {
  "kernelspec": {
   "display_name": "Python 3",
   "language": "python",
   "name": "python3"
  },
  "language_info": {
   "codemirror_mode": {
    "name": "ipython",
    "version": 3
   },
   "file_extension": ".py",
   "mimetype": "text/x-python",
   "name": "python",
   "nbconvert_exporter": "python",
   "pygments_lexer": "ipython3",
   "version": "3.11.7"
  }
 },
 "nbformat": 4,
 "nbformat_minor": 2
}
