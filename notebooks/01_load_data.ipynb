{
 "cells": [
  {
   "cell_type": "code",
   "execution_count": 1,
   "metadata": {},
   "outputs": [],
   "source": [
    "# Change directory to level up to import functions\n",
    "import os\n",
    "os.chdir('..')\n",
    "\n",
    "import warnings\n",
    "\n",
    "# Suppress all warnings\n",
    "warnings.filterwarnings('ignore')"
   ]
  },
  {
   "cell_type": "code",
   "execution_count": 2,
   "metadata": {},
   "outputs": [],
   "source": [
    "from src.data_preperation.load_data import (\n",
    "    generate_urls,\n",
    "    get_all_season_data,\n",
    "    combine_save_csvs,\n",
    ")"
   ]
  },
  {
   "cell_type": "code",
   "execution_count": 3,
   "metadata": {},
   "outputs": [],
   "source": [
    "# Constants for URL parameters\n",
    "start_season_premier_league = 2000\n",
    "start_season_championship_assists = 2014\n",
    "start_season_championship_goals = 2000\n",
    "end_season = 2024"
   ]
  },
  {
   "cell_type": "code",
   "execution_count": 4,
   "metadata": {},
   "outputs": [],
   "source": [
    "# Generate URLs for Premier League Goals and Assists\n",
    "PREMIER_LEAGUE_GOAL_URLS = generate_urls(\n",
    "    league_name=\"eng-premier-league\",\n",
    "    stat_type=\"scorer\",\n",
    "    start_season=start_season_premier_league,\n",
    "    end_season=end_season,\n",
    ")\n",
    "PREMIER_LEAGUE_ASSISTS = generate_urls(\n",
    "    league_name=\"eng-premier-league\",\n",
    "    stat_type=\"assists\",\n",
    "    start_season=start_season_premier_league,\n",
    "    end_season=end_season,\n",
    ")\n",
    "\n",
    "# Generate URLs for Championship Goals and Assists\n",
    "CHAMPIONSHIP_GOAL_URLS = generate_urls(\n",
    "    league_name=\"eng-championship\",\n",
    "    stat_type=\"goalgetter\",\n",
    "    start_season=start_season_championship_goals,\n",
    "    end_season=end_season,\n",
    ")\n",
    "CHAMPIONSHIP_ASSIST_URLS = generate_urls(\n",
    "    league_name=\"eng-championship\",\n",
    "    stat_type=\"assists\",\n",
    "    start_season=start_season_championship_assists,\n",
    "    end_season=end_season,\n",
    ")"
   ]
  },
  {
   "cell_type": "code",
   "execution_count": 7,
   "metadata": {},
   "outputs": [],
   "source": [
    "\n",
    "# Fetch and save goal data\n",
    "sleep_time = 0.01\n",
    "get_all_season_data(\n",
    "    seasons=PREMIER_LEAGUE_GOAL_URLS,\n",
    "    league=\"premier_league\",\n",
    "    metric=\"goals\",\n",
    "    sleep_time=sleep_time,\n",
    ")\n",
    "get_all_season_data(\n",
    "    seasons=PREMIER_LEAGUE_ASSISTS,\n",
    "    league=\"premier_league\",\n",
    "    metric=\"assists\",\n",
    "    sleep_time=sleep_time,\n",
    ")\n",
    "get_all_season_data(\n",
    "    seasons=CHAMPIONSHIP_GOAL_URLS,\n",
    "    league=\"championship\",\n",
    "    metric=\"goals\",\n",
    "    sleep_time=sleep_time,\n",
    ")\n",
    "get_all_season_data(\n",
    "    seasons=CHAMPIONSHIP_ASSIST_URLS,\n",
    "    league=\"championship\",\n",
    "    metric=\"assists\",\n",
    "    sleep_time=sleep_time,\n",
    ")"
   ]
  },
  {
   "cell_type": "code",
   "execution_count": 6,
   "metadata": {},
   "outputs": [],
   "source": [
    "# Combine and save data\n",
    "for league_metric in [\n",
    "    \"premier_league_goals\",\n",
    "    \"premier_league_assists\",\n",
    "    \"championship_goals\",\n",
    "    \"championship_assists\",\n",
    "]:\n",
    "    combine_save_csvs(league_metric=league_metric)"
   ]
  }
 ],
 "metadata": {
  "kernelspec": {
   "display_name": "Python 3",
   "language": "python",
   "name": "python3"
  },
  "language_info": {
   "codemirror_mode": {
    "name": "ipython",
    "version": 3
   },
   "file_extension": ".py",
   "mimetype": "text/x-python",
   "name": "python",
   "nbconvert_exporter": "python",
   "pygments_lexer": "ipython3",
   "version": "3.11.7"
  }
 },
 "nbformat": 4,
 "nbformat_minor": 2
}
