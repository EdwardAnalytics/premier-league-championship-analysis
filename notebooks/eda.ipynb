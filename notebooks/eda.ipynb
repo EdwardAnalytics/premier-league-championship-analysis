{
 "cells": [
  {
   "cell_type": "code",
   "execution_count": 1,
   "metadata": {},
   "outputs": [],
   "source": [
    "# Change directory to level up to import functions\n",
    "import os\n",
    "os.chdir('..')\n",
    "\n",
    "import warnings\n",
    "\n",
    "# Suppress all warnings\n",
    "warnings.filterwarnings('ignore')"
   ]
  },
  {
   "cell_type": "code",
   "execution_count": 2,
   "metadata": {},
   "outputs": [],
   "source": [
    "import pandas as pd"
   ]
  },
  {
   "cell_type": "code",
   "execution_count": 5,
   "metadata": {},
   "outputs": [],
   "source": [
    "premier_league_goals = pd.read_csv('data/premier_league_goals/combined_seasons/premier_league_goals.csv')\n",
    "premier_league_assists = pd.read_csv('data/premier_league_assists/combined_seasons/premier_league_assists.csv')\n",
    "championship_goals = pd.read_csv('data/championship_goals/combined_seasons/championship_goals.csv')\n",
    "championship_assists = pd.read_csv('data/championship_assists/combined_seasons/championship_assists.csv')\n"
   ]
  },
  {
   "cell_type": "code",
   "execution_count": 35,
   "metadata": {},
   "outputs": [],
   "source": [
    "import yaml"
   ]
  },
  {
   "cell_type": "code",
   "execution_count": 36,
   "metadata": {},
   "outputs": [],
   "source": [
    "# Get unique team list\n",
    "\n",
    "team_list = []\n",
    "\n",
    "for player_data in [premier_league_goals, premier_league_assists, championship_goals, championship_assists]:\n",
    "    team_list = team_list + player_data['Team'].unique().tolist()\n",
    "\n",
    "team_list = sorted(set([team for team in team_list if isinstance(team, str)]))\n",
    "\n",
    "# Define the file path\n",
    "file_path = \"conf/promoted_teams_by_season.yaml\"\n",
    "\n",
    "# Open and load the YAML file\n",
    "with open(file_path, 'r') as file:\n",
    "    promoted_teams = yaml.safe_load(file)\n"
   ]
  },
  {
   "cell_type": "code",
   "execution_count": 37,
   "metadata": {},
   "outputs": [
    {
     "data": {
      "text/plain": [
       "{2001: ['Fulham', 'Blackburn Rovers', 'Birmingham City'],\n",
       " 2002: ['West Bromwich Albion', 'Bradford City', 'Burnley'],\n",
       " 2003: ['Portsmouth', 'Leeds United', 'Crystal Palace'],\n",
       " 2004: ['West Ham United', 'Sunderland', 'Wigan Athletic'],\n",
       " 2005: ['Sunderland', 'West Bromwich Albion', 'Norwich City'],\n",
       " 2006: ['Reading', 'Sheffield United', 'Watford'],\n",
       " 2007: ['Birmingham City', 'Sunderland', 'West Bromwich Albion'],\n",
       " 2008: ['West Bromwich Albion', 'Stoke City', 'Hull City'],\n",
       " 2009: ['Birmingham City', 'Burnley', 'Queens Park Rangers'],\n",
       " 2010: ['Newcastle United', 'West Bromwich Albion', 'Blackpool'],\n",
       " 2011: ['Queens Park Rangers', 'Norwich City', 'Swansea City'],\n",
       " 2012: ['Reading', 'Southampton', 'West Ham United'],\n",
       " 2013: ['Cardiff City', 'Hull City', 'Crystal Palace'],\n",
       " 2014: ['Leicester City', 'Burnley', 'Queens Park Rangers'],\n",
       " 2015: ['Bournemouth', 'Watford', 'Norwich City'],\n",
       " 2016: ['Burnley', 'Middlesbrough', 'Hull City'],\n",
       " 2017: ['Newcastle United', 'Brighton & Hove Albion', 'Huddersfield Town'],\n",
       " 2018: ['Wolverhampton Wanderers', 'Cardiff City', 'Fulham'],\n",
       " 2019: ['Norwich City', 'Sheffield United', 'Aston Villa'],\n",
       " 2020: ['Leeds United', 'West Bromwich Albion', 'Fulham'],\n",
       " 2021: ['Norwich City', 'Watford', 'Brentford'],\n",
       " 2022: ['Fulham', 'Bournemouth', 'Nottingham Forest'],\n",
       " 2023: ['Burnley', 'Sheffield United', 'Luton Town'],\n",
       " 2024: ['Leicester', 'Ipswich', 'Southampton']}"
      ]
     },
     "execution_count": 37,
     "metadata": {},
     "output_type": "execute_result"
    }
   ],
   "source": [
    "promoted_teams"
   ]
  }
 ],
 "metadata": {
  "language_info": {
   "name": "python"
  }
 },
 "nbformat": 4,
 "nbformat_minor": 2
}
